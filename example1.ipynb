{
 "cells": [
  {
   "cell_type": "markdown",
   "metadata": {},
   "source": [
    "# Create Neural Network from Scratch using Python\n",
    "To make things simple, we will be using:\n",
    "1. Numpy for arithmetic operation (dot product / matrix multiplication, transpose of a matrix, etc).\n",
    "2. Iris dataset: https://www.kaggle.com/saurabh00007/iriscsv with modification in the label value as follow:\n",
    "    - Iris-setosa = 0\n",
    "    - Iris-versicolor = 1\n",
    "    - Iris-virginica = 2"
   ]
  },
  {
   "cell_type": "code",
   "execution_count": 2,
   "metadata": {},
   "outputs": [],
   "source": [
    "import numpy as np"
   ]
  },
  {
   "cell_type": "markdown",
   "metadata": {},
   "source": [
    "## Load and Scale Data"
   ]
  },
  {
   "cell_type": "code",
   "execution_count": 95,
   "metadata": {},
   "outputs": [
    {
     "name": "stdout",
     "output_type": "stream",
     "text": [
      "x data:\n",
      " [[0.84810127 0.68181818 0.7761194  0.92      ]\n",
      " [0.79746835 0.56818182 0.74626866 0.76      ]\n",
      " [0.82278481 0.68181818 0.7761194  0.8       ]\n",
      " [0.78481013 0.77272727 0.80597015 0.92      ]\n",
      " [0.74683544 0.68181818 0.76119403 0.72      ]] \n",
      "\n",
      "y data:\n",
      " [[1.]\n",
      " [1.]\n",
      " [1.]\n",
      " [1.]\n",
      " [1.]]\n"
     ]
    }
   ],
   "source": [
    "trainDataPath = './data/modifiedIris.csv'\n",
    "testDataPath = './data/modifiedIrisEvaluation.csv'\n",
    "\n",
    "# Load daata\n",
    "trainData = np.loadtxt(open(trainDataPath, \"rb\"), delimiter=\",\", skiprows=1, usecols=(1,2,3,4,5), dtype=float)\n",
    "testData = np.loadtxt(open(testDataPath, \"rb\"), delimiter=\",\", skiprows=1, usecols=(1,2,3,4), dtype=float)\n",
    "\n",
    "# x data contain four features i.e. SepalLengthCm, SepalWidthCm, PetalLengthCm, PetalWidthCm\n",
    "X = trainData[:, [0,1,2,3]]\n",
    "\n",
    "# Since there are 6 data in the modifiedIrisEvaluation file, you could chose the index (from 0 to 5) for prediction.\n",
    "# In this example, we chose index 3 of modifiedIrisEvaluation which belongs to species 1 (Iris-versicolor).\n",
    "xPredicted = testData[3]\n",
    "\n",
    "# y is the output / label (Iris-setosa, Iris-versicolor, Iris-virginica)\n",
    "y = trainData[:, [4]]\n",
    "\n",
    "# Scale units\n",
    "xMax = np.amax(X, axis=0)\n",
    "X = X/xMax\n",
    "xPredicted = xPredicted/xMax\n",
    "y = y/np.amax(y, axis=0) # Since we scale the output also, so that label 0 = 0, 1 = 0.5, and 2 = 1\n",
    "\n",
    "# Display the last five rows of x data\n",
    "print(\"x data:\\n\",X[-5:  ,  :],\"\\n\")\n",
    "\n",
    "# Display the last five rows of y data\n",
    "print(\"y data:\\n\",y[-5:, :])"
   ]
  },
  {
   "cell_type": "markdown",
   "metadata": {},
   "source": [
    "## Define Neural Network"
   ]
  },
  {
   "cell_type": "code",
   "execution_count": 6,
   "metadata": {},
   "outputs": [],
   "source": [
    "class NeuralNet:\n",
    "    def __init__(self):\n",
    "        self.inputSize = np.size(X, 1) #get size of x's second dimension = 4\n",
    "        self.hiddenSize = 5\n",
    "        self.outputSize = np.size(y,1) #get size of y's second dimension = 1\n",
    "        \n",
    "        #weights\n",
    "        self.W1 = np.random.randn(self.inputSize, self.hiddenSize) # (4x5) weight matrix from input to hidden layer\n",
    "        self.W2 = np.random.randn(self.hiddenSize, self.outputSize) # (5x1) weight matrix from hidden to output layer\n",
    "\n",
    "    def forward(self, X): # forward propagation\n",
    "        self.z = np.dot(X, self.W1) # dot product of X (input) and first set of 4x5 weights\n",
    "        self.z2 = self.sigmoid(self.z) # apply activation function\n",
    "        self.z3 = np.dot(self.z2, self.W2) # dot product of hidden layer (z2) and second set of 5x1 weights\n",
    "        o = self.sigmoid(self.z3) # apply activation function\n",
    "        return o\n",
    "\n",
    "    def sigmoid(self, x): # activation function\n",
    "        return 1/(1+np.exp(-x))\n",
    "\n",
    "    def derivativeSigmoid (self, x):\n",
    "        return x * (1 - x)\n",
    "\n",
    "    def backward(self, X, y, o): # backpropagation\n",
    "        self.o_error = y - o # error in output\n",
    "        self.o_delta = self.o_error*self.derivativeSigmoid(o) # applying derivative of sigmoid to error\n",
    "\n",
    "        self.z2_error = self.o_delta.dot(self.W2.T) # z2 error: how much our hidden layer weights contributed to output error\n",
    "        self.z2_delta = self.z2_error*self.derivativeSigmoid(self.z2) # applying derivative of sigmoid to z2 error\n",
    "\n",
    "        self.W1 += X.T.dot(self.z2_delta) # adjusting first set (input to hidden) weights\n",
    "        self.W2 += self.z2.T.dot(self.o_delta) # adjusting second set (hidden to output) weights\n",
    "\n",
    "    def train(self, X, y):\n",
    "        o = self.forward(X)\n",
    "        self.backward(X, y, o)\n",
    "\n",
    "    def predict(self):\n",
    "        print(\"Predicted data based on trained weights: \")\n",
    "        print(\"Scaled Input: \\n\" + str(xPredicted))\n",
    "        print(\"Scaled Output: \\n\" + str(self.forward(xPredicted)))"
   ]
  },
  {
   "cell_type": "markdown",
   "metadata": {},
   "source": [
    "## Train and Predict"
   ]
  },
  {
   "cell_type": "code",
   "execution_count": null,
   "metadata": {},
   "outputs": [],
   "source": [
    "NN = NeuralNet()\n",
    "for i in range(50000): # trains the NN with 50.000 iterations\n",
    "    print(\"# \" + str(i) + \"\\n\")\n",
    "    print(\"Scaled INput: \\n\" + str(X[-5:,:]))\n",
    "    print(\"Actual Output (scaled): \\n\" + str(y[-5:,:]))\n",
    "    print(\"Predicted Output (scaled): \\n\" + str(NN.forward(X[-5:,:])))\n",
    "    print(\"Loss: \\n\" + str(np.mean(np.square(y - NN.forward(X))))) # mean sum squared error\n",
    "    print(\"\\n\")\n",
    "    NN.train(X, y)\n",
    "NN.predict()"
   ]
  }
 ],
 "metadata": {
  "kernelspec": {
   "display_name": "Python 3",
   "language": "python",
   "name": "python3"
  },
  "language_info": {
   "codemirror_mode": {
    "name": "ipython",
    "version": 3
   },
   "file_extension": ".py",
   "mimetype": "text/x-python",
   "name": "python",
   "nbconvert_exporter": "python",
   "pygments_lexer": "ipython3",
   "version": "3.6.7"
  }
 },
 "nbformat": 4,
 "nbformat_minor": 2
}
